{
 "cells": [
  {
   "cell_type": "code",
   "execution_count": 1,
   "metadata": {
    "collapsed": false
   },
   "outputs": [],
   "source": [
    "using XSim,JWAS, DataFrames"
   ]
  },
  {
   "cell_type": "code",
   "execution_count": 2,
   "metadata": {
    "collapsed": false
   },
   "outputs": [],
   "source": [
    "srand(314);"
   ]
  },
  {
   "cell_type": "code",
   "execution_count": 3,
   "metadata": {
    "collapsed": true
   },
   "outputs": [],
   "source": [
    "using XSim"
   ]
  },
  {
   "cell_type": "code",
   "execution_count": 4,
   "metadata": {
    "collapsed": false
   },
   "outputs": [
    {
     "data": {
      "text/plain": [
       "100"
      ]
     },
     "execution_count": 4,
     "metadata": {},
     "output_type": "execute_result"
    }
   ],
   "source": [
    "nind     = 100   \n",
    "chrLength= 1.0  #length of each chromosome \n",
    "numChr   = 10   #number of chromosomes\n",
    "nmarkers = 2000 #number of loci for each chromosome\n",
    "nQTL     = 100  #number of QTL for each chromosome"
   ]
  },
  {
   "cell_type": "code",
   "execution_count": 5,
   "metadata": {
    "collapsed": false
   },
   "outputs": [],
   "source": [
    "build_genome(numChr,chrLength,nmarkers,nQTL)"
   ]
  },
  {
   "cell_type": "code",
   "execution_count": 6,
   "metadata": {
    "collapsed": false
   },
   "outputs": [
    {
     "name": "stdout",
     "output_type": "stream",
     "text": [
      "Sampling 100 animals into base population.\n",
      "Sampling 100 animals into base population.\n"
     ]
    }
   ],
   "source": [
    "popSizeFounder = nind\n",
    "sires = sampleFounders(popSizeFounder);\n",
    "dams  = sampleFounders(popSizeFounder);"
   ]
  },
  {
   "cell_type": "code",
   "execution_count": 7,
   "metadata": {
    "collapsed": false
   },
   "outputs": [
    {
     "name": "stdout",
     "output_type": "stream",
     "text": [
      "Generation     2: sampling    50 males and    50 females\n",
      "Generation     3: sampling    50 males and    50 females\n",
      "Generation     4: sampling    50 males and    50 females\n",
      "Generation     5: sampling    50 males and    50 females\n",
      "Generation     6: sampling    50 males and    50 females\n",
      "Generation     7: sampling    50 males and    50 females\n",
      "Generation     8: sampling    50 males and    50 females\n",
      "Generation     9: sampling    50 males and    50 females\n",
      "Generation    10: sampling    50 males and    50 females\n",
      "Generation    11: sampling    50 males and    50 females\n"
     ]
    }
   ],
   "source": [
    "ngen,popSize = 10,nind\n",
    "sires1,dams1,gen1 = sampleRan(popSize, ngen, sires, dams);"
   ]
  },
  {
   "cell_type": "code",
   "execution_count": 8,
   "metadata": {
    "collapsed": false
   },
   "outputs": [],
   "source": [
    "animals=concatCohorts(sires1,dams1);"
   ]
  },
  {
   "cell_type": "code",
   "execution_count": 9,
   "metadata": {
    "collapsed": false
   },
   "outputs": [],
   "source": [
    "M = getOurGenotypes(animals);"
   ]
  },
  {
   "cell_type": "code",
   "execution_count": 10,
   "metadata": {
    "collapsed": false
   },
   "outputs": [],
   "source": [
    "P = getOurPhenVals(animals,1.0); #residual variance is 1.0\n",
    "nothing"
   ]
  },
  {
   "cell_type": "markdown",
   "metadata": {},
   "source": [
    "### writeout"
   ]
  },
  {
   "cell_type": "code",
   "execution_count": 11,
   "metadata": {
    "collapsed": false
   },
   "outputs": [],
   "source": [
    "phenotypes = DataFrame()\n",
    "phenotypes[:y]=P;"
   ]
  },
  {
   "cell_type": "code",
   "execution_count": 12,
   "metadata": {
    "collapsed": false
   },
   "outputs": [],
   "source": [
    "writetable(\"phenotypes.csv\",phenotypes)"
   ]
  },
  {
   "cell_type": "code",
   "execution_count": 13,
   "metadata": {
    "collapsed": false
   },
   "outputs": [],
   "source": [
    "writedlm(\"genotype.csv\",M)"
   ]
  },
  {
   "cell_type": "markdown",
   "metadata": {
    "collapsed": true
   },
   "source": [
    "## JWAS"
   ]
  },
  {
   "cell_type": "code",
   "execution_count": 14,
   "metadata": {
    "collapsed": false
   },
   "outputs": [],
   "source": [
    "M=readdlm(\"genotype.csv\");\n",
    "phenotypes=readtable(\"phenotypes.csv\");\n",
    "nothing"
   ]
  },
  {
   "cell_type": "code",
   "execution_count": 15,
   "metadata": {
    "collapsed": false
   },
   "outputs": [
    {
     "name": "stdout",
     "output_type": "stream",
     "text": [
      "20000 markers on 100 individuals were added.\n",
      "MCMC Information:\n",
      "\n",
      "methods                                      BayesC\n",
      "chain_length                                    100\n",
      "starting_value                                false\n",
      "printout_frequency                               20\n",
      "output_samples_frequency                         10\n",
      "constraint                                    false\n",
      "missing_phenotypes                            false\n",
      "update_priors_frequency                           0\n",
      "\n",
      "Information for hyper-parameter: π (Π)\n",
      "π                                              0.95\n",
      "estimatePi                                     true\n",
      "\n",
      "Degree of freedom for hyper-parameters:\n",
      "residual variances:                           4.000\n",
      "iid random effect variances:                  4.000\n",
      "polygenic effect variances:                   4.000\n",
      "marker effect variances:                      4.000\n",
      "\n",
      "\n",
      "\n"
     ]
    },
    {
     "name": "stderr",
     "output_type": "stream",
     "text": [
      "running MCMC for BayesC... 14%|████                     |  ETA: 0:00:05"
     ]
    },
    {
     "name": "stdout",
     "output_type": "stream",
     "text": [
      "\n",
      "Posterior means at iteration: 20\n",
      "Residual variance: "
     ]
    },
    {
     "name": "stderr",
     "output_type": "stream",
     "text": [
      "\r\n",
      "running MCMC for BayesC... 18%|████                     |  ETA: 0:00:04"
     ]
    },
    {
     "name": "stdout",
     "output_type": "stream",
     "text": [
      "0.34606\n",
      "Marker effects variance: 0.271262\n",
      "π: 0.92\n"
     ]
    },
    {
     "name": "stderr",
     "output_type": "stream",
     "text": [
      "running MCMC for BayesC... 31%|████████                 |  ETA: 0:00:03"
     ]
    },
    {
     "name": "stdout",
     "output_type": "stream",
     "text": [
      "\n",
      "Posterior means at iteration: 40\n",
      "Residual variance: 0.338365\n",
      "Marker effects variance: 0.35313\n",
      "π: 0.929\n"
     ]
    },
    {
     "name": "stderr",
     "output_type": "stream",
     "text": [
      "running MCMC for BayesC... 55%|██████████████           |  ETA: 0:00:02"
     ]
    },
    {
     "name": "stdout",
     "output_type": "stream",
     "text": [
      "\n",
      "Posterior means at iteration: 60\n",
      "Residual variance: 0.34726\n",
      "Marker effects variance: 0.410937\n",
      "π: 0.934\n"
     ]
    },
    {
     "name": "stderr",
     "output_type": "stream",
     "text": [
      "running MCMC for BayesC... 75%|███████████████████      |  ETA: 0:00:01"
     ]
    },
    {
     "name": "stdout",
     "output_type": "stream",
     "text": [
      "\n",
      "Posterior means at iteration: 80\n",
      "Residual variance: 0.378563\n",
      "Marker effects variance: 0.47277\n",
      "π: 0.938\n"
     ]
    },
    {
     "name": "stderr",
     "output_type": "stream",
     "text": [
      "running MCMC for BayesC... 95%|████████████████████████ |  ETA: 0:00:00"
     ]
    },
    {
     "name": "stdout",
     "output_type": "stream",
     "text": [
      "\n",
      "Posterior means at iteration: 100\n",
      "Residual variance: 0.50035\n",
      "Marker effects variance: 0.53842\n",
      "π: 0.941\n"
     ]
    },
    {
     "name": "stderr",
     "output_type": "stream",
     "text": [
      "\r\n",
      "running MCMC for BayesC... 99%|█████████████████████████|  ETA: 0:00:00\r\n",
      "running MCMC for BayesC...100%|█████████████████████████| Time: 0:00:03\n"
     ]
    },
    {
     "name": "stdout",
     "output_type": "stream",
     "text": [
      " 10.836132 seconds (13.00 M allocations: 611.979 MB, 2.98% gc time)\n"
     ]
    }
   ],
   "source": [
    "R=1.0\n",
    "model_equations = \"y = intercept\";\n",
    "model = build_model(model_equations,R);\n",
    "\n",
    "G=0.01\n",
    "add_markers(model,M,G,header=false,G_is_marker_variance=true);\n",
    "\n",
    "@time out=runMCMC(model,phenotypes,Pi=0.95,estimatePi=true,chain_length=100,\n",
    "printout_frequency=20,printout_MCMCinfo=true,methods=\"BayesC\",\n",
    "output_samples_frequency=10);"
   ]
  },
  {
   "cell_type": "code",
   "execution_count": 16,
   "metadata": {
    "collapsed": true
   },
   "outputs": [],
   "source": [
    "using JWAS:misc"
   ]
  },
  {
   "cell_type": "code",
   "execution_count": 17,
   "metadata": {
    "collapsed": false
   },
   "outputs": [],
   "source": [
    "A=GWAS(\"MCMC_samples_for_marker_effects.txt\",model,header=false,\n",
    "window_size=10,threshold=0.01);"
   ]
  },
  {
   "cell_type": "code",
   "execution_count": 18,
   "metadata": {
    "collapsed": false
   },
   "outputs": [],
   "source": [
    "using Plots"
   ]
  },
  {
   "cell_type": "code",
   "execution_count": 21,
   "metadata": {
    "collapsed": false
   },
   "outputs": [
    {
     "data": {
      "text/plain": [
       "Plots.PyPlotBackend()"
      ]
     },
     "execution_count": 21,
     "metadata": {},
     "output_type": "execute_result"
    }
   ],
   "source": [
    "pyplot()"
   ]
  },
  {
   "cell_type": "code",
   "execution_count": 22,
   "metadata": {
    "collapsed": false
   },
   "outputs": [
    {
     "data": {
      "text/html": [
       "<img src=\"data:image/png;base64,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\" />"
      ]
     },
     "execution_count": 22,
     "metadata": {},
     "output_type": "execute_result"
    }
   ],
   "source": [
    "plot(A)"
   ]
  },
  {
   "cell_type": "code",
   "execution_count": null,
   "metadata": {
    "collapsed": true
   },
   "outputs": [],
   "source": []
  }
 ],
 "metadata": {
  "anaconda-cloud": {},
  "kernelspec": {
   "display_name": "Python 2.7.16 64-bit",
   "name": "python2716jvsc74a57bd0767d51c1340bd893661ea55ea3124f6de3c7a262a8b4abca0554b478b1e2ff90"
  },
  "language_info": {
   "name": "python",
   "version": ""
  },
  "metadata": {
   "interpreter": {
    "hash": "767d51c1340bd893661ea55ea3124f6de3c7a262a8b4abca0554b478b1e2ff90"
   }
  }
 },
 "nbformat": 4,
 "nbformat_minor": 0
}