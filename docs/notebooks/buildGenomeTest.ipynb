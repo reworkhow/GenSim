{
 "cells": [
  {
   "cell_type": "code",
   "execution_count": 1,
   "metadata": {},
   "outputs": [
    {
     "name": "stdout",
     "output_type": "stream",
     "text": [
      "\u001b[32m\u001b[1m  Updating\u001b[22m\u001b[39m registry at `~/.julia/registries/General`\n",
      "\u001b[32m\u001b[1m  Updating\u001b[22m\u001b[39m git-repo `https://github.com/JuliaRegistries/General.git`\n",
      "\u001b[?25l\u001b[2K\u001b[?25h\u001b[32m\u001b[1m  Updating\u001b[22m\u001b[39m git-repo `https://github.com/reworkhow/XSim.jl.git`\n",
      "\u001b[?25l\u001b[2K\u001b[?25h\u001b[32m\u001b[1m Resolving\u001b[22m\u001b[39m package versions...\n",
      "\u001b[32m\u001b[1m  Updating\u001b[22m\u001b[39m `~/.julia/environments/v1.1/Project.toml`\n",
      "\u001b[90m [no changes]\u001b[39m\n",
      "\u001b[32m\u001b[1m  Updating\u001b[22m\u001b[39m `~/.julia/environments/v1.1/Manifest.toml`\n",
      "\u001b[90m [no changes]\u001b[39m\n",
      "\u001b[32m\u001b[1m Resolving\u001b[22m\u001b[39m package versions...\n",
      "\u001b[32m\u001b[1m  Updating\u001b[22m\u001b[39m `~/.julia/environments/v1.1/Project.toml`\n",
      "\u001b[90m [no changes]\u001b[39m\n",
      "\u001b[32m\u001b[1m  Updating\u001b[22m\u001b[39m `~/.julia/environments/v1.1/Manifest.toml`\n",
      "\u001b[90m [no changes]\u001b[39m\n",
      "\u001b[32m\u001b[1m Resolving\u001b[22m\u001b[39m package versions...\n",
      "\u001b[32m\u001b[1m  Updating\u001b[22m\u001b[39m `~/.julia/environments/v1.1/Project.toml`\n",
      "\u001b[90m [no changes]\u001b[39m\n",
      "\u001b[32m\u001b[1m  Updating\u001b[22m\u001b[39m `~/.julia/environments/v1.1/Manifest.toml`\n",
      "\u001b[90m [no changes]\u001b[39m\n"
     ]
    }
   ],
   "source": [
    "using Pkg\n",
    "Pkg.add(\"Revise\")\n",
    "Pkg.add(\"XSim\")\n",
    "#Pkg.build(\"StatsFuns\")"
   ]
  },
  {
   "cell_type": "code",
   "execution_count": 38,
   "metadata": {},
   "outputs": [
    {
     "name": "stderr",
     "output_type": "stream",
     "text": [
      "┌ Info: Precompiling XSim [3d41126b-a46a-5bdb-b7a1-7ea6cc35a8ef]\n",
      "└ @ Base loading.jl:1186\n"
     ]
    }
   ],
   "source": [
    "using DataFrames, Revise\n",
    "using XSim, DelimitedFiles, Statistics, LinearAlgebra"
   ]
  },
  {
   "cell_type": "markdown",
   "metadata": {},
   "source": [
    "## Single Trait "
   ]
  },
  {
   "cell_type": "markdown",
   "metadata": {},
   "source": [
    "#### Simplest build_genome function: \n",
    "only #chromosomes, chromosome length, #markers per chromosome, #QTL per chromosome, #traits, G and mutation rate are parameters, with default values for #traits, G and mutation rate (1, [], 0): markers are equally spaced, all chromosomea are the generated to be equal, gene frequency 0.5 for all loci, #QTL randomly sampled among the markers, QTL effects ~N(0,1)"
   ]
  },
  {
   "cell_type": "markdown",
   "metadata": {},
   "source": [
    "#### Genotypic values not transformed"
   ]
  },
  {
   "cell_type": "code",
   "execution_count": 39,
   "metadata": {},
   "outputs": [
    {
     "data": {
      "text/plain": [
       "4"
      ]
     },
     "execution_count": 39,
     "metadata": {},
     "output_type": "execute_result"
    }
   ],
   "source": [
    "numChr=3\n",
    "chrLength = 1.\n",
    "numLoci=10\n",
    "QTLPerChr = 4"
   ]
  },
  {
   "cell_type": "code",
   "execution_count": 47,
   "metadata": {},
   "outputs": [
    {
     "name": "stdout",
     "output_type": "stream",
     "text": [
      "G0 = Any[]\n"
     ]
    }
   ],
   "source": [
    "XSim.build_genome(numChr,chrLength,numLoci,QTLPerChr)"
   ]
  },
  {
   "cell_type": "code",
   "execution_count": 48,
   "metadata": {},
   "outputs": [
    {
     "data": {
      "text/plain": [
       "1×1 Array{Float64,2}:\n",
       " 13.62274110483927"
      ]
     },
     "execution_count": 48,
     "metadata": {},
     "output_type": "execute_result"
    }
   ],
   "source": [
    "XSim.GLOBAL.G.qtl_effects'XSim.GLOBAL.G.qtl_effects"
   ]
  },
  {
   "cell_type": "markdown",
   "metadata": {},
   "source": [
    "#### Genotypic values transformed to have variance G"
   ]
  },
  {
   "cell_type": "code",
   "execution_count": 49,
   "metadata": {},
   "outputs": [
    {
     "data": {
      "text/plain": [
       "1"
      ]
     },
     "execution_count": 49,
     "metadata": {},
     "output_type": "execute_result"
    }
   ],
   "source": [
    "G0 = Array{Float64,2}(undef,1,1)\n",
    "G0[1,1] = 1\n",
    "nTraits = 1"
   ]
  },
  {
   "cell_type": "code",
   "execution_count": 50,
   "metadata": {},
   "outputs": [
    {
     "name": "stdout",
     "output_type": "stream",
     "text": [
      "G0 = [1.0]\n",
      "G after transformation = [1.0]\n"
     ]
    }
   ],
   "source": [
    "XSim.build_genome(numChr,chrLength,numLoci,QTLPerChr,nTraits,G0)"
   ]
  },
  {
   "cell_type": "code",
   "execution_count": 51,
   "metadata": {},
   "outputs": [
    {
     "data": {
      "text/plain": [
       "1×1 Array{Float64,2}:\n",
       " 1.9999999999999996"
      ]
     },
     "execution_count": 51,
     "metadata": {},
     "output_type": "execute_result"
    }
   ],
   "source": [
    "XSim.GLOBAL.G.qtl_effects'XSim.GLOBAL.G.qtl_effects"
   ]
  },
  {
   "cell_type": "markdown",
   "metadata": {},
   "source": [
    "#### Intermediate build_genome function: \n",
    "still only one chromosome specifiecd and all #chromosomes are generated to be equal, but now gene frequency and map position are vectors with actual values, qtl_index is a vector with the QTL Ids and qtl_effects is a matrix with size #numQTL x #traits."
   ]
  },
  {
   "cell_type": "markdown",
   "metadata": {},
   "source": [
    "genotypic values not transformed"
   ]
  },
  {
   "cell_type": "code",
   "execution_count": 52,
   "metadata": {},
   "outputs": [
    {
     "data": {
      "text/plain": [
       "10-element Array{Float64,1}:\n",
       " 0.5\n",
       " 0.5\n",
       " 0.5\n",
       " 0.5\n",
       " 0.5\n",
       " 0.5\n",
       " 0.5\n",
       " 0.5\n",
       " 0.5\n",
       " 0.5"
      ]
     },
     "execution_count": 52,
     "metadata": {},
     "output_type": "execute_result"
    }
   ],
   "source": [
    "geneFreq=fill(0.5,10)"
   ]
  },
  {
   "cell_type": "code",
   "execution_count": 53,
   "metadata": {},
   "outputs": [
    {
     "data": {
      "text/plain": [
       "10-element Array{Float64,1}:\n",
       " 0.08870762202455573\n",
       " 0.19413581353498666\n",
       " 0.3262914858185366 \n",
       " 0.41510265827748394\n",
       " 0.5893216128536118 \n",
       " 0.6170360621395898 \n",
       " 0.6184579089148907 \n",
       " 0.7302950305404872 \n",
       " 0.7916465068466334 \n",
       " 0.9282354587998529 "
      ]
     },
     "execution_count": 53,
     "metadata": {},
     "output_type": "execute_result"
    }
   ],
   "source": [
    "mPos = sort(rand(10))"
   ]
  },
  {
   "cell_type": "code",
   "execution_count": 54,
   "metadata": {},
   "outputs": [
    {
     "data": {
      "text/plain": [
       "4-element Array{Int64,1}:\n",
       " 1\n",
       " 3\n",
       " 5\n",
       " 6"
      ]
     },
     "execution_count": 54,
     "metadata": {},
     "output_type": "execute_result"
    }
   ],
   "source": [
    "QTLIdx = [1, 3, 5, 6]"
   ]
  },
  {
   "cell_type": "code",
   "execution_count": 55,
   "metadata": {},
   "outputs": [
    {
     "data": {
      "text/plain": [
       "4×1 Array{Float64,2}:\n",
       " -0.03303977103073874\n",
       " -0.6390422532270633 \n",
       " -0.6608493796621223 \n",
       " -0.133537037735719  "
      ]
     },
     "execution_count": 55,
     "metadata": {},
     "output_type": "execute_result"
    }
   ],
   "source": [
    "QTLEffects = randn(4,1)"
   ]
  },
  {
   "cell_type": "code",
   "execution_count": 61,
   "metadata": {},
   "outputs": [
    {
     "name": "stdout",
     "output_type": "stream",
     "text": [
      "G0 = Any[]\n"
     ]
    }
   ],
   "source": [
    "XSim.build_genome(numChr,chrLength,numLoci,geneFreq,mPos,0.,QTLIdx,QTLEffects)"
   ]
  },
  {
   "cell_type": "code",
   "execution_count": 62,
   "metadata": {},
   "outputs": [
    {
     "data": {
      "text/plain": [
       "1×1 Array{Float64,2}:\n",
       " 2.5920620127789853"
      ]
     },
     "execution_count": 62,
     "metadata": {},
     "output_type": "execute_result"
    }
   ],
   "source": [
    "XSim.GLOBAL.G.qtl_effects'XSim.GLOBAL.G.qtl_effects"
   ]
  },
  {
   "cell_type": "markdown",
   "metadata": {},
   "source": [
    "#### Genotypic values transformed to have variance G"
   ]
  },
  {
   "cell_type": "code",
   "execution_count": 58,
   "metadata": {},
   "outputs": [
    {
     "data": {
      "text/plain": [
       "1"
      ]
     },
     "execution_count": 58,
     "metadata": {},
     "output_type": "execute_result"
    }
   ],
   "source": [
    "G0 = Array{Float64,2}(undef,1,1)\n",
    "G0[1,1] = 1"
   ]
  },
  {
   "cell_type": "code",
   "execution_count": 59,
   "metadata": {},
   "outputs": [
    {
     "name": "stdout",
     "output_type": "stream",
     "text": [
      "G0 = [1.0]\n",
      "G after transformation = [1.0]\n"
     ]
    }
   ],
   "source": [
    "XSim.build_genome(numChr,chrLength,numLoci,geneFreq,mPos,0.,QTLIdx,QTLEffects,G0)"
   ]
  },
  {
   "cell_type": "markdown",
   "metadata": {},
   "source": [
    "#### Core method for build_genome function: \n",
    "#chromosome specified, chromosome_length and nLoci are vectors with the the length of all chromosomes, gene_frequency and map_position are matrices with size #loci x #chromosomes, qtl_index and qtl_effect are vectors of matrices of size #chromosomes x (#QTL x #traits), ntraits, mutation_rate and rate_error are scalars and G0 is the genetic covariance matrix the simulated genotypic values will be transformed to. All scalars and the genetic covariance matirx have defaults values (1, 0 and [])."
   ]
  },
  {
   "cell_type": "markdown",
   "metadata": {},
   "source": [
    "genotypic values not transformed"
   ]
  },
  {
   "cell_type": "code",
   "execution_count": 63,
   "metadata": {},
   "outputs": [
    {
     "data": {
      "text/plain": [
       "3-element Array{Array{Float64,2},1}:\n",
       " [-0.661979; -0.407985]         \n",
       " [0.305389; 0.281732; 0.0563519]\n",
       " [1.47998]                      "
      ]
     },
     "execution_count": 63,
     "metadata": {},
     "output_type": "execute_result"
    }
   ],
   "source": [
    "numChr=3\n",
    "chrLength = [1.0, 1.1, 0.9]\n",
    "numLoci=[10 ,15 ,20]\n",
    "geneFreq   = Array{Array{Float64,1},1}(undef,0)\n",
    "qtlIndex  = Array{Array{Int64,1},1}(undef,0)\n",
    "qtlEffects = Array{Array{Float64,2},1}(undef,0)\n",
    "numQTLOnChr =[2, 3, 1]\n",
    "numQTL=6\n",
    "qtlIndex = [[1; 4],[3;7;9],[5]]\n",
    "geneFreq = [[.5;.5;.5;.5;.5;.5;.5;.5;.5;.5],[.5;.5;.5;.5;.5;.5;.5;.5;.5;.5;.5;.5;.5;.5;.5],[.5;.5;.5;.5;.5;.5;.5;.5;.5;.5;.5;.5;.5;.5;.5;.5;.5;.5;.5;.5]]\n",
    "mPos = [[.05;.1;.15;.2;.25;.3;.35;.40;.45;.5],[.05;.1;.15;.2;.25;.3;.35;.40;.45;.5;.55;.65;.75;.85;.95],[.05;.1;.15;.2;.25;.3;.35;.4;.45;.5;.54;.58;.65;.75;.758;.759;.8;.85;.851;.859]]\n",
    "push!(qtlEffects,randn(2,1))\n",
    "push!(qtlEffects,randn(3,1))\n",
    "push!(qtlEffects,randn(1,1))\n"
   ]
  },
  {
   "cell_type": "markdown",
   "metadata": {},
   "source": [
    "#### Genotypic values not transformed"
   ]
  },
  {
   "cell_type": "code",
   "execution_count": 64,
   "metadata": {},
   "outputs": [
    {
     "name": "stdout",
     "output_type": "stream",
     "text": [
      "G0 = Any[]\n"
     ]
    }
   ],
   "source": [
    "XSim.build_genome(numChr,chrLength,numLoci,geneFreq,mPos,qtlIndex,qtlEffects)"
   ]
  },
  {
   "cell_type": "markdown",
   "metadata": {},
   "source": [
    "#### genotypic values transformed to have variance G"
   ]
  },
  {
   "cell_type": "code",
   "execution_count": 65,
   "metadata": {},
   "outputs": [
    {
     "data": {
      "text/plain": [
       "1"
      ]
     },
     "execution_count": 65,
     "metadata": {},
     "output_type": "execute_result"
    }
   ],
   "source": [
    "G0 = Array{Float64,2}(undef,1,1)\n",
    "G0[1,1] = 1\n",
    "nTraits = 1"
   ]
  },
  {
   "cell_type": "code",
   "execution_count": 66,
   "metadata": {},
   "outputs": [
    {
     "name": "stdout",
     "output_type": "stream",
     "text": [
      "G0 = [1.0]\n",
      "G after transformation = [1.0]\n"
     ]
    }
   ],
   "source": [
    "XSim.build_genome(numChr,chrLength,numLoci,geneFreq,mPos,qtlIndex,qtlEffects,nTraits,G0)"
   ]
  },
  {
   "cell_type": "markdown",
   "metadata": {},
   "source": [
    "## Two Traits "
   ]
  },
  {
   "cell_type": "markdown",
   "metadata": {},
   "source": [
    "#### Simplest build_genome function: \n",
    "only #chromosomes, chromosome length, #markers per chromosome, #QTL per chromosome, #traits, G and mutation rate are parameters, with default values for #traits, G and mutation rate (1, [], 0): markers are equally spaced, all chromosomea are the generated to be equal, gene frequency 0.5 for all loci, #QTL randomly dampled among the markers, QTL effects ~N(0,1)"
   ]
  },
  {
   "cell_type": "markdown",
   "metadata": {},
   "source": [
    "#### genotypic values not transformed"
   ]
  },
  {
   "cell_type": "code",
   "execution_count": 67,
   "metadata": {},
   "outputs": [
    {
     "data": {
      "text/plain": [
       "2"
      ]
     },
     "execution_count": 67,
     "metadata": {},
     "output_type": "execute_result"
    }
   ],
   "source": [
    "numChr=3\n",
    "chrLength = 1.\n",
    "numLoci=10\n",
    "QTLPerChr = 4\n",
    "nTraits = 2"
   ]
  },
  {
   "cell_type": "code",
   "execution_count": 68,
   "metadata": {},
   "outputs": [
    {
     "name": "stdout",
     "output_type": "stream",
     "text": [
      "G0 = Any[]\n"
     ]
    }
   ],
   "source": [
    "XSim.build_genome(numChr,chrLength,numLoci,QTLPerChr,nTraits)"
   ]
  },
  {
   "cell_type": "markdown",
   "metadata": {},
   "source": [
    "#### Genotypic values transformed to have variance G"
   ]
  },
  {
   "cell_type": "code",
   "execution_count": 69,
   "metadata": {},
   "outputs": [
    {
     "data": {
      "text/plain": [
       "2×2 Array{Float64,2}:\n",
       " 1.0  0.5\n",
       " 0.5  2.0"
      ]
     },
     "execution_count": 69,
     "metadata": {},
     "output_type": "execute_result"
    }
   ],
   "source": [
    "G0 = [1. 0.5;0.5 2.]"
   ]
  },
  {
   "cell_type": "code",
   "execution_count": 70,
   "metadata": {},
   "outputs": [
    {
     "name": "stdout",
     "output_type": "stream",
     "text": [
      "G0 = [1.0 0.5; 0.5 2.0]\n",
      "G after transformation = [1.0 0.5; 0.5 2.0]\n"
     ]
    }
   ],
   "source": [
    "XSim.build_genome(numChr,chrLength,numLoci,QTLPerChr,nTraits,G0)"
   ]
  },
  {
   "cell_type": "markdown",
   "metadata": {},
   "source": [
    "#### Intermediate build_genome function: \n",
    "still only one chromosome specifiecd and all #chromosomes are generated to be equal, but now gene frequency and map position are vectors with actual values, qtl_index is a vector with the QTL Ids and qtl_effects is 2 matrix with size #numQTL x #traits."
   ]
  },
  {
   "cell_type": "markdown",
   "metadata": {},
   "source": [
    "#### Genotypic values not transformed"
   ]
  },
  {
   "cell_type": "code",
   "execution_count": 71,
   "metadata": {},
   "outputs": [
    {
     "data": {
      "text/plain": [
       "10-element Array{Float64,1}:\n",
       " 0.5\n",
       " 0.5\n",
       " 0.5\n",
       " 0.5\n",
       " 0.5\n",
       " 0.5\n",
       " 0.5\n",
       " 0.5\n",
       " 0.5\n",
       " 0.5"
      ]
     },
     "execution_count": 71,
     "metadata": {},
     "output_type": "execute_result"
    }
   ],
   "source": [
    "geneFreq=fill(0.5,10)"
   ]
  },
  {
   "cell_type": "code",
   "execution_count": 72,
   "metadata": {},
   "outputs": [
    {
     "data": {
      "text/plain": [
       "10-element Array{Float64,1}:\n",
       " 0.030379201594243455\n",
       " 0.512410942860003   \n",
       " 0.5567771049861794  \n",
       " 0.5858531883745721  \n",
       " 0.6188040481647918  \n",
       " 0.6642243650188704  \n",
       " 0.7703515898435962  \n",
       " 0.8015137136213735  \n",
       " 0.8264556267549998  \n",
       " 0.9507417771765398  "
      ]
     },
     "execution_count": 72,
     "metadata": {},
     "output_type": "execute_result"
    }
   ],
   "source": [
    "mPos = sort(rand(10))"
   ]
  },
  {
   "cell_type": "code",
   "execution_count": 73,
   "metadata": {},
   "outputs": [
    {
     "data": {
      "text/plain": [
       "4-element Array{Int64,1}:\n",
       " 1\n",
       " 3\n",
       " 5\n",
       " 6"
      ]
     },
     "execution_count": 73,
     "metadata": {},
     "output_type": "execute_result"
    }
   ],
   "source": [
    "QTLIdx = [1, 3, 5, 6]"
   ]
  },
  {
   "cell_type": "code",
   "execution_count": 74,
   "metadata": {},
   "outputs": [
    {
     "data": {
      "text/plain": [
       "4×2 Array{Float64,2}:\n",
       "  2.60326   -1.35124   \n",
       " -0.406681  -0.816973  \n",
       " -1.27219    4.24827e-5\n",
       " -0.783233   0.768338  "
      ]
     },
     "execution_count": 74,
     "metadata": {},
     "output_type": "execute_result"
    }
   ],
   "source": [
    "QTLEffects = randn(4,2)"
   ]
  },
  {
   "cell_type": "code",
   "execution_count": 75,
   "metadata": {},
   "outputs": [
    {
     "name": "stdout",
     "output_type": "stream",
     "text": [
      "G0 = Any[]\n"
     ]
    }
   ],
   "source": [
    "XSim.build_genome(numChr,chrLength,numLoci,geneFreq,mPos,0.,QTLIdx,QTLEffects)"
   ]
  },
  {
   "cell_type": "markdown",
   "metadata": {},
   "source": [
    "#### Genotypic values transformed to have variance G"
   ]
  },
  {
   "cell_type": "code",
   "execution_count": 76,
   "metadata": {},
   "outputs": [
    {
     "data": {
      "text/plain": [
       "2×2 Array{Float64,2}:\n",
       " 1.0  0.5\n",
       " 0.5  2.0"
      ]
     },
     "execution_count": 76,
     "metadata": {},
     "output_type": "execute_result"
    }
   ],
   "source": [
    "G0 = [1. 0.5;0.5 2.]"
   ]
  },
  {
   "cell_type": "code",
   "execution_count": 77,
   "metadata": {},
   "outputs": [
    {
     "name": "stdout",
     "output_type": "stream",
     "text": [
      "G0 = [1.0 0.5; 0.5 2.0]\n",
      "G after transformation = [1.0 0.5; 0.5 2.0]\n"
     ]
    }
   ],
   "source": [
    "XSim.build_genome(numChr,chrLength,numLoci,geneFreq,mPos,0.,QTLIdx,QTLEffects,G0)"
   ]
  },
  {
   "cell_type": "markdown",
   "metadata": {},
   "source": [
    "#### Core method for build_genome function: \n",
    "#chromosome specified, chromosome_length and nLoci are vectors with the the length of all chromosomes, gene_frequency and map_position are matrices with size #loci x #chromosomes, qtl_index and qtl_effect are vectors of matrices of size #chromosomes x (#QTL x #traits), ntraits, mutation_rate and rate_error are scalars and G0 is the genetic covariance matrix the simulated genotypic values will be transformed to. All scalars and the genetic covariance matirx have defaults values (1, 0 and [])."
   ]
  },
  {
   "cell_type": "markdown",
   "metadata": {},
   "source": [
    "#### Genotypic values not transformed"
   ]
  },
  {
   "cell_type": "code",
   "execution_count": 79,
   "metadata": {},
   "outputs": [
    {
     "data": {
      "text/plain": [
       "3-element Array{Array{Float64,2},1}:\n",
       " [0.739977 -0.272321; -0.30898 -0.864631]                 \n",
       " [0.2073 2.19452; 0.189282 0.157835; -0.0813076 -0.935582]\n",
       " [-0.216634 -1.53293]                                     "
      ]
     },
     "execution_count": 79,
     "metadata": {},
     "output_type": "execute_result"
    }
   ],
   "source": [
    "numChr = 3\n",
    "chrLength = [1.0, 1.1, 0.9]\n",
    "numLoci = [10 ,15 ,20]\n",
    "nTraits = 2\n",
    "geneFreq   = Array{Array{Float64,1},1}(undef,0)\n",
    "qtlIndex  = Array{Array{Int64,1},1}(undef,0)\n",
    "qtlEffects = Array{Array{Float64,2},1}(undef,0)\n",
    "numQTLOnChr =[2, 3, 1]\n",
    "numQTL=6\n",
    "qtlIndex = [[1; 4],[3;7;9],[5]]\n",
    "geneFreq = [[.5;.5;.5;.5;.5;.5;.5;.5;.5;.5],[.5;.5;.5;.5;.5;.5;.5;.5;.5;.5;.5;.5;.5;.5;.5],[.5;.5;.5;.5;.5;.5;.5;.5;.5;.5;.5;.5;.5;.5;.5;.5;.5;.5;.5;.5]]\n",
    "mPos = [[.05;.1;.15;.2;.25;.3;.35;.40;.45;.5],[.05;.1;.15;.2;.25;.3;.35;.40;.45;.5;.55;.65;.75;.85;.95],[.05;.1;.15;.2;.25;.3;.35;.4;.45;.5;.54;.58;.65;.75;.758;.759;.8;.85;.851;.859]]\n",
    "push!(qtlEffects,randn(2,2))\n",
    "push!(qtlEffects,randn(3,2))\n",
    "push!(qtlEffects,randn(1,2))\n"
   ]
  },
  {
   "cell_type": "code",
   "execution_count": 80,
   "metadata": {},
   "outputs": [
    {
     "name": "stdout",
     "output_type": "stream",
     "text": [
      "G0 = Any[]\n"
     ]
    }
   ],
   "source": [
    "XSim.build_genome(numChr,chrLength,numLoci,geneFreq,mPos,qtlIndex,qtlEffects,nTraits)"
   ]
  },
  {
   "cell_type": "markdown",
   "metadata": {},
   "source": [
    "#### Genotypic values transformed to have variance G"
   ]
  },
  {
   "cell_type": "code",
   "execution_count": 81,
   "metadata": {},
   "outputs": [
    {
     "data": {
      "text/plain": [
       "2×2 Array{Float64,2}:\n",
       " 1.0  0.5\n",
       " 0.5  2.0"
      ]
     },
     "execution_count": 81,
     "metadata": {},
     "output_type": "execute_result"
    }
   ],
   "source": [
    "G0 = [1. 0.5;0.5 2.]"
   ]
  },
  {
   "cell_type": "code",
   "execution_count": 82,
   "metadata": {},
   "outputs": [
    {
     "name": "stdout",
     "output_type": "stream",
     "text": [
      "G0 = [1.0 0.5; 0.5 2.0]\n",
      "G after transformation = [1.0 0.5; 0.5 2.0]\n"
     ]
    }
   ],
   "source": [
    "XSim.build_genome(numChr,chrLength,numLoci,geneFreq,mPos,qtlIndex,qtlEffects,nTraits,G0)"
   ]
  },
  {
   "cell_type": "code",
   "execution_count": null,
   "metadata": {},
   "outputs": [],
   "source": []
  }
 ],
 "metadata": {
  "kernelspec": {
   "display_name": "Julia 1.1.0",
   "language": "julia",
   "name": "julia-1.1"
  },
  "language_info": {
   "file_extension": ".jl",
   "mimetype": "application/julia",
   "name": "julia",
   "version": "1.1.0"
  }
 },
 "nbformat": 4,
 "nbformat_minor": 2
}