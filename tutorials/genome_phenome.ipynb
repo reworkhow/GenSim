{
  "cells": [
    {
      "cell_type": "markdown",
      "source": [
        "# Define genome and phenome\n\n### Define genome\n##### By species"
      ],
      "metadata": {}
    },
    {
      "outputs": [],
      "cell_type": "code",
      "source": [
        "build_genome(species=\"cattle\")"
      ],
      "metadata": {},
      "execution_count": null
    },
    {
      "cell_type": "markdown",
      "source": [
        "```\n[ Info: --------- Genome Summary ---------\n[ Info: Number of Chromosome  : 29\n[ Info: \n[ Info: Chromosome Length (cM): 3076.0\n[ Info: [166.0, 144.0, 142.0, 133.0, 122.0, 134.0, 126.0, 123.0, 110.0, 119.0, 130.0, 117.0, 118.0, 127.0, 108.0, 112.0, 97.0, 103.0, 99.0, 74.0, 88.0, 91.0, 90.0, 86.0, 62.0, 70.0, 61.0, 57.0, 67.0]\n[ Info: \n[ Info: Number of Loci        : 6231\n[ Info: [370, 296, 295, 277, 292, 283, 253, 258, 210, 261, 283, 220, 255, 205, 214, 217, 209, 172, 154, 210, 137, 190, 155, 186, 106, 145, 116, 137, 125]\n[ Info: \n[ Info: Genotyping Error      : 0.0\n[ Info: Mutation Rate         : 0.0\n[ Info: \n[ Info: Arias,J.A. et al. (2009) A high density linkage map of the bovine genome. BMC Genetics, 10, 18.\n[ Info: Reference Genome      : Btau 4.0\n[ Info: SNP Chip              : Affymetrix GeneChip Bovine Mapping 10K SNP kit\n```\n##### By dataframes"
      ],
      "metadata": {}
    },
    {
      "outputs": [],
      "cell_type": "code",
      "source": [
        "reference = XSim.data(\"cattle_map\")\nfirst(reference, 5)"
      ],
      "metadata": {},
      "execution_count": null
    },
    {
      "cell_type": "markdown",
      "source": [
        "```\n5×4 DataFrame\n Row │ id           chr    bp       cM      \n     │ String       Int64  Int64    Float64 \n─────┼──────────────────────────────────────\n   1 │ ALGA0000112      1  1276597    0.033\n   2 │ ALGA0000120      1  1352912    0.033\n   3 │ ALGA0000131      1  1461555    0.033\n   4 │ ALGA0000133      1  1486605    0.033\n   5 │ ALGA0000134      1  1519802    0.033\n```"
      ],
      "metadata": {}
    },
    {
      "outputs": [],
      "cell_type": "code",
      "source": [
        "build_genome(reference)"
      ],
      "metadata": {},
      "execution_count": null
    },
    {
      "cell_type": "markdown",
      "source": [
        "```\n[ Info: --------- Genome Summary ---------\n[ Info: Number of Chromosome  : 18\n[ Info: \n[ Info: Chromosome Length (cM): 1591.0\n[ Info: [98.0, 95.0, 97.0, 92.0, 89.0, 124.0, 113.0, 95.0, 95.0, 84.0, 65.0, 77.0, 98.0, 107.0, 93.0, 66.0, 54.0, 49.0]\n[ Info: \n[ Info: Number of Loci        : 45292\n[ Info: [6580, 2356, 1938, 3682, 2217, 1766, 3489, 2100, 2538, 1281, 1805, 1072, 3529, 4053, 2612, 1513, 1646, 1115]\n[ Info: \n[ Info: Genotyping Error      : 0.0\n[ Info: Mutation Rate         : 0.0\n[ Info: \n```\n\n##### By manual inputs"
      ],
      "metadata": {}
    },
    {
      "outputs": [],
      "cell_type": "code",
      "source": [
        "n_chr = 2\nn_loci_chr = 5\nn_loci = n_chr * n_loci_chr\nchromosome = [i        for i in 1:n_chr for j in 1:n_loci_chr]\nbp         = [10 * j   for i in 1:n_chr for j in 1:n_loci_chr]\ncM         = [1.5 * j  for i in 1:n_chr for j in 1:n_loci_chr]\nmaf        = fill(0.5, n_loci)\nrate_mutation = 0.0\nrate_error    = 0.0\nbuild_genome(chromosome, bp, cM, maf, rate_mutation, rate_error)"
      ],
      "metadata": {},
      "execution_count": null
    },
    {
      "cell_type": "markdown",
      "source": [
        "```\n[ Info: --------- Genome Summary ---------\n[ Info: Number of Chromosome  : 2\n[ Info: \n[ Info: Chromosome Length (cM): 16.0\n[ Info: [8.0, 8.0]\n[ Info: \n[ Info: Number of Loci        : 10\n[ Info: [5, 5]\n[ Info: \n[ Info: Genotyping Error      : 0.0\n[ Info: Mutation Rate         : 0.0\n[ Info: \n```\n### Define phenome\n\n##### Provide numbers of QTLs and genetic variance"
      ],
      "metadata": {}
    },
    {
      "outputs": [],
      "cell_type": "code",
      "source": [
        "n_qtl = [2, 2]\nVg    = [ 1 .6\n         .5  1]\nbuild_phenome(n_qtl, Vg)"
      ],
      "metadata": {},
      "execution_count": null
    },
    {
      "cell_type": "markdown",
      "source": [
        "```\n[ Info: --------- Phenome Summary ---------\n[ Info: Number of Traits      : 2\n┌ Info: \n│   Genetic_Variance =\n│    2×2 Array{Float64,2}:\n│     1.0  0.6\n└     0.6  1.0\n[ Info: Number of QTLs        : [2 3]\n```\n##### Provide effects of QTLs and genetic variance"
      ],
      "metadata": {}
    },
    {
      "outputs": [],
      "cell_type": "code",
      "source": [
        "effects = Array([0 0 0 .5  0 .3 0  0 0 0\n                .3 0 0  0 .8  0 0 .1 0 0]')\nVg    = [ 1 .5\n         .5 1]\nbuild_phenome(effects, Vg)"
      ],
      "metadata": {},
      "execution_count": null
    },
    {
      "cell_type": "markdown",
      "source": [
        "```\n[ Info: --------- Phenome Summary ---------\n[ Info: Number of Traits      : 2\n┌ Info: \n│   Genetic_Variance =\n│    2×2 Array{Float64,2}:\n│     1.0  0.5\n└     0.5  1.0\n[ Info: Number of QTLs        : [2 5]\n```\n\n### Use demo genome and phenome\n##### Default demo"
      ],
      "metadata": {}
    },
    {
      "outputs": [],
      "cell_type": "code",
      "source": [
        "build_demo()"
      ],
      "metadata": {},
      "execution_count": null
    },
    {
      "cell_type": "markdown",
      "source": [
        "```\n[ Info: --------- Genome Summary ---------\n[ Info: Number of Chromosome  : 10\n[ Info: \n[ Info: Chromosome Length (cM): 1500.0\n[ Info: [150.0, 150.0, 150.0, 150.0, 150.0, 150.0, 150.0, 150.0, 150.0, 150.0]\n[ Info: \n[ Info: Number of Loci        : 1000\n[ Info: [100, 100, 100, 100, 100, 100, 100, 100, 100, 100]\n[ Info: \n[ Info: Genotyping Error      : 0.0\n[ Info: Mutation Rate         : 0.0\n[ Info: \n[ Info: --------- Phenome Summary ---------\n[ Info: Number of Traits      : 2\n┌ Info: \n│   Genetic_Variance =\n│    2×2 Array{Float64,2}:\n│     1.0  0.0\n└     0.0  1.0\n[ Info: Number of QTLs        : [3 8]\n```\n\n##### Small demo"
      ],
      "metadata": {}
    },
    {
      "outputs": [],
      "cell_type": "code",
      "source": [
        "build_demo_small()"
      ],
      "metadata": {},
      "execution_count": null
    },
    {
      "cell_type": "markdown",
      "source": [
        "```\n[ Info: --------- Genome Summary ---------\n[ Info: Number of Chromosome  : 2\n[ Info: \n[ Info: Chromosome Length (cM): 16.0\n[ Info: [8.0, 8.0]\n[ Info: \n[ Info: Number of Loci        : 10\n[ Info: [5, 5]\n[ Info: \n[ Info: Genotyping Error      : 0.0\n[ Info: Mutation Rate         : 0.0\n[ Info: \n[ Info: --------- Phenome Summary ---------\n[ Info: Number of Traits      : 2\n┌ Info: \n│   Genetic_Variance =\n│    2×2 Array{Float64,2}:\n│     1.0  0.0\n└     0.0  1.0\n[ Info: Number of QTLs        : [2 4]\n```\n\n\n\n\n### Check the results\nYou can always check the settings with `summary()` function"
      ],
      "metadata": {}
    },
    {
      "outputs": [],
      "cell_type": "code",
      "source": [
        "summary()"
      ],
      "metadata": {},
      "execution_count": null
    },
    {
      "cell_type": "markdown",
      "source": [
        "```\n[ Info: --------- Genome Summary ---------\n[ Info: Number of Chromosome  : 10\n[ Info: \n[ Info: Chromosome Length (cM): 1500.0\n[ Info: [150.0, 150.0, 150.0, 150.0, 150.0, 150.0, 150.0, 150.0, 150.0, 150.0]\n[ Info: \n[ Info: Number of Loci        : 1000\n[ Info: [100, 100, 100, 100, 100, 100, 100, 100, 100, 100]\n[ Info: \n[ Info: Genotyping Error      : 0.0\n[ Info: Mutation Rate         : 0.0\n[ Info: \n[ Info: --------- Phenome Summary ---------\n[ Info: Number of Traits      : 2\n┌ Info: \n│   Genetic_Variance =\n│    2×2 Array{Float64,2}:\n│     1.0  0.0\n└     0.0  1.0\n[ Info: Number of QTLs        : [3 8]\n```"
      ],
      "metadata": {}
    }
  ],
  "nbformat_minor": 2,
  "metadata": {
    "language_info": {
      "file_extension": ".jl",
      "mimetype": "application/julia",
      "name": "julia",
      "version": "1.5.4"
    },
    "kernelspec": {
      "name": "julia-1.5",
      "display_name": "Julia 1.5.4",
      "language": "julia"
    }
  },
  "nbformat": 4
}
