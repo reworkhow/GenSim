{
  "cells": [
    {
      "cell_type": "markdown",
      "source": [
        "# A rotational cross-breeding\n10 generations of individuals. Parallel purebred populations are simulated \nas well as a crossbred population. 1 small 2 large pure breeds, \nand a crossbred (X) population, for example. \nBreed 1 has 50 males 500 females, \nBreeds 2-3 have 100 males 2000 females at G0."
      ],
      "metadata": {}
    },
    {
      "outputs": [],
      "cell_type": "code",
      "source": [
        "include(\"../src/XSim.jl\")\nusing .XSim"
      ],
      "metadata": {},
      "execution_count": null
    },
    {
      "cell_type": "markdown",
      "source": [
        "### Step 0. Load XSim and set random seed"
      ],
      "metadata": {}
    },
    {
      "outputs": [],
      "cell_type": "code",
      "source": [
        "using XSim\nimport Random\nRandom.seed!(95616)"
      ],
      "metadata": {},
      "execution_count": null
    },
    {
      "cell_type": "markdown",
      "source": [
        "### Step 1. Setup genome and phenome information"
      ],
      "metadata": {}
    },
    {
      "outputs": [],
      "cell_type": "code",
      "source": [
        "build_demo()"
      ],
      "metadata": {},
      "execution_count": null
    },
    {
      "cell_type": "markdown",
      "source": [
        "```\n[ Info: --------- Genome Summary ---------\n[ Info: Number of Chromosome  : 10\n[ Info: \n[ Info: Chromosome Length (cM): 750.0\n[ Info: [75.0, 75.0, 75.0, 75.0, 75.0, 75.0, 75.0, 75.0, 75.0, 75.0]\n[ Info: \n[ Info: Number of Loci        : 50\n[ Info: [5, 5, 5, 5, 5, 5, 5, 5, 5, 5]\n[ Info: \n[ Info: Genotyping Error      : 0.0\n[ Info: Mutation Rate         : 0.0\n[ Info: \n[ Info: --------- Phenome Summary ---------\n[ Info: Number of Traits      : 2\n┌ Info: \n│   Genetic_Variance =\n│    2×2 Array{Float64,2}:\n│     1.0  0.0\n└     0.0  1.0\n[ Info: Number of QTLs        : [3 8]\n```\n\n### Derive small breed (A)"
      ],
      "metadata": {}
    },
    {
      "outputs": [],
      "cell_type": "code",
      "source": [
        "n_sires       = 50\ndams_per_sire = 10\nn_dams        = n_sires * dams_per_sire\nargs          = Dict(# Mating\n                     :n_per_shared     => dams_per_sire,\n                     :n_per_mate       => 2,\n                     :ratio_malefemale => 1,\n                     # Selection\n                     :h2               => [.8, .2],\n                     :is_random        => false,\n                     # Breeding\n                     :n_gens           => 10,\n                     :n_select_males   => n_sires)\n# Breed A\nsires_A         = Founders(n_sires)\ndams_A          = Founders(n_dams)\nsires_A, dams_A = breed(sires_A, dams_A; args...)"
      ],
      "metadata": {},
      "execution_count": null
    },
    {
      "cell_type": "markdown",
      "source": [
        "### Derive large breeds (B and C)"
      ],
      "metadata": {}
    },
    {
      "outputs": [],
      "cell_type": "code",
      "source": [
        "# Large breeds\nn_sires        = 100\ndams_per_sire  = 20\nn_dams         = n_sires * dams_per_sire\nargs[:n_per_shared]   = dams_per_sire\nargs[:n_select_males] = n_sires\n\n# Breed B\nsires_B         = Founders(n_sires)\ndams_B          = Founders(n_dams)\nsires_B, dams_B = breed(sires_B, dams_B; args...)\n\n# Breed C\nsires_C         = Founders(n_sires)\ndams_C          = Founders(n_dams)\nsires_C, dams_C = breed(sires_C, dams_B; args...)"
      ],
      "metadata": {},
      "execution_count": null
    },
    {
      "cell_type": "markdown",
      "source": [
        "### Rotational breeding"
      ],
      "metadata": {}
    },
    {
      "outputs": [],
      "cell_type": "code",
      "source": [
        "# Rotation\nargs_rotate          = Dict(:n_pop            => 2000,\n                            :n_per_mate       => 2,\n                            :ratio_malefemale => 1)\n# Rotation (G1)\nmales_G1, females_G1 = mate(sires_B, dams_C; args_rotate...)\n\n# Rotation (G2)\nmales_G2, females_G2 = mate(sires_A, females_G1; args_rotate...)\n\n# Rotation (G3)\nmales_G3, females_G3 = mate(sires_C, females_G2; args_rotate...)"
      ],
      "metadata": {},
      "execution_count": null
    },
    {
      "cell_type": "markdown",
      "source": [
        "###"
      ],
      "metadata": {}
    }
  ],
  "nbformat_minor": 2,
  "metadata": {
    "language_info": {
      "file_extension": ".jl",
      "mimetype": "application/julia",
      "name": "julia",
      "version": "1.5.4"
    },
    "kernelspec": {
      "name": "julia-1.5",
      "display_name": "Julia 1.5.4",
      "language": "julia"
    }
  },
  "nbformat": 4
}
