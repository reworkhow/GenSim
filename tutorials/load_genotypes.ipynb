{
  "cells": [
    {
      "cell_type": "markdown",
      "metadata": {},
      "source": [
        "# Load genotypes by files"
      ]
    },
    {
      "cell_type": "code",
      "execution_count": null,
      "metadata": {},
      "outputs": [],
      "source": [
        "using CSV\n",
        "using DataFrames"
      ]
    },
    {
      "cell_type": "markdown",
      "metadata": {},
      "source": [
        "### Step 0. Load XSim and set random seed"
      ]
    },
    {
      "cell_type": "code",
      "execution_count": null,
      "metadata": {},
      "outputs": [],
      "source": [
        "using XSim"
      ]
    },
    {
      "cell_type": "markdown",
      "metadata": {},
      "source": [
        "### Step 1. Setup genome and phenome with small examples"
      ]
    },
    {
      "cell_type": "code",
      "execution_count": null,
      "metadata": {},
      "outputs": [],
      "source": [
        "XSim.build_demo_small()"
      ]
    },
    {
      "cell_type": "markdown",
      "metadata": {},
      "source": [
        "```\n",
        "[ Info: --------- Genome Summary ---------\n",
        "[ Info: Number of Chromosome  : 2\n",
        "[ Info: \n",
        "[ Info: Chromosome Length (cM): 16.0\n",
        "[ Info: [8.0, 8.0]\n",
        "[ Info: \n",
        "[ Info: Number of Loci        : 10\n",
        "[ Info: [5, 5]\n",
        "[ Info: \n",
        "[ Info: Genotyping Error      : 0.0\n",
        "[ Info: Mutation Rate         : 0.0\n",
        "[ Info: \n",
        "[ Info: --------- Phenome Summary ---------\n",
        "[ Info: Number of Traits      : 2\n",
        "┌ Info: \n",
        "│   Genetic_Variance =\n",
        "│    2×2 Array{Float64,2}:\n",
        "│     1.0  0.0\n",
        "└     0.0  1.0\n",
        "[ Info: Number of QTLs        : [2 5]\n",
        "```\n",
        "\n",
        "### Step 2. Inspect genotypes"
      ]
    },
    {
      "cell_type": "code",
      "execution_count": null,
      "metadata": {},
      "outputs": [],
      "source": [
        "root      = dirname(dirname(pathof(XSim)))\n",
        "filepath  = joinpath(root, \"data\", \"demo_genotypes.csv\")\n",
        "genotypes = CSV.read(filepath, DataFrame, header=false)"
      ]
    },
    {
      "cell_type": "code",
      "execution_count": null,
      "metadata": {},
      "outputs": [],
      "source": [
        "# XSim provide example data with XSim.data() function\n",
        "genotypes = XSim.data(\"genotypes\")"
      ]
    },
    {
      "cell_type": "code",
      "execution_count": null,
      "metadata": {},
      "outputs": [],
      "source": [
        "genotypes"
      ]
    },
    {
      "cell_type": "markdown",
      "metadata": {},
      "source": [
        "### Step 3. Initialize founders by files or dataframes"
      ]
    },
    {
      "cell_type": "code",
      "execution_count": null,
      "metadata": {},
      "outputs": [],
      "source": [
        "cohort = Founders(genotypes)"
      ]
    },
    {
      "cell_type": "markdown",
      "metadata": {},
      "source": [
        "```\n",
        "[ Info: MAF has been updated based on provided haplotypes/genotypes\n",
        "[ Info: Cohort (5 individuals)\n",
        "[ Info: \n",
        "[ Info: Mean of breeding values: \n",
        "[ Info: [1.003 0.965]\n",
        "[ Info: \n",
        "[ Info: Variance of breeding values: \n",
        "[ Info: [1.734 1.261]\n",
        "```"
      ]
    },
    {
      "cell_type": "code",
      "execution_count": null,
      "metadata": {},
      "outputs": [],
      "source": [
        "root      = dirname(dirname(pathof(XSim)))\n",
        "filepath  = joinpath(root, \"data\", \"demo_genotypes.csv\")\n",
        "cohort    = Founders(filepath)"
      ]
    },
    {
      "cell_type": "markdown",
      "metadata": {},
      "source": [
        "```\n",
        "[ Info: MAF has been updated based on provided haplotypes/genotypes\n",
        "[ Info: Cohort (5 individuals)\n",
        "[ Info: \n",
        "[ Info: Mean of breeding values: \n",
        "[ Info: [1.003 0.965]\n",
        "[ Info: \n",
        "[ Info: Variance of breeding values: \n",
        "[ Info: [1.734 1.261]\n",
        "```\n",
        "\n",
        "Inspect the founders"
      ]
    },
    {
      "cell_type": "code",
      "execution_count": null,
      "metadata": {},
      "outputs": [],
      "source": [
        "get_genotypes(cohort)"
      ]
    },
    {
      "cell_type": "markdown",
      "metadata": {},
      "source": [
        "```\n",
        "5×10 LinearAlgebra.Adjoint{Int64,Array{Int64,2}}:\n",
        " 2  0  0  0  1  0  0  2  1  0\n",
        " 0  0  0  1  0  0  0  2  0  1\n",
        " 0  1  0  0  2  1  0  0  0  0\n",
        " 1  1  0  0  2  1  0  0  2  0\n",
        " 2  2  0  1  2  0  0  2  0  2\n",
        "```"
      ]
    },
    {
      "cell_type": "code",
      "execution_count": null,
      "metadata": {},
      "outputs": [],
      "source": [
        "get_QTLs(cohort)"
      ]
    },
    {
      "cell_type": "markdown",
      "metadata": {},
      "source": [
        "```\n",
        "5×6 Array{Int64,2}:\n",
        "2  0  0  0  0  2\n",
        "0  0  0  0  0  2\n",
        "0  1  0  1  0  0\n",
        "1  1  0  1  0  0\n",
        "2  2  0  0  0  2\n",
        "```"
      ]
    },
    {
      "cell_type": "code",
      "execution_count": null,
      "metadata": {},
      "outputs": [],
      "source": [
        "get_BVs(cohort)"
      ]
    },
    {
      "cell_type": "markdown",
      "metadata": {},
      "source": [
        "```\n",
        "5×2 LinearAlgebra.Adjoint{Float64,Array{Float64,2}}:\n",
        "0.0         3.07603\n",
        "0.0         1.47043\n",
        "0.00488477  0.780246\n",
        "0.00488477  1.58304\n",
        "0.0         4.63652\n",
        "```"
      ]
    },
    {
      "cell_type": "code",
      "execution_count": null,
      "metadata": {},
      "outputs": [],
      "source": [
        "get_pedigrees(cohort)"
      ]
    },
    {
      "cell_type": "markdown",
      "metadata": {},
      "source": [
        "```\n",
        "5×3 LinearAlgebra.Adjoint{Int64,Array{Int64,2}}:\n",
        "6  0  0\n",
        "7  0  0\n",
        "8  0  0\n",
        "9  0  0\n",
        "10  0  0\n",
        "```\n",
        "\n",
        "### Step 4. Mate and select for 5 generations"
      ]
    },
    {
      "cell_type": "code",
      "execution_count": null,
      "metadata": {},
      "outputs": [],
      "source": [
        "args = Dict(:n_per_mate      => 4,\n",
        "            :n_gens          => 5,\n",
        "            :ratio_malefemale=> 2,\n",
        "            :h2              => [.8, .8])\n",
        "males, females = breed(cohort, cohort; args...)"
      ]
    },
    {
      "cell_type": "markdown",
      "metadata": {},
      "source": [
        "```\n",
        "\n",
        "[ Info: Gen 0 -> Mean of BVs: [0.002 2.309], Variance of BVs: [0.0 2.127]\n",
        "[ Info: Gen 1 -> Mean of BVs: [0.0 3.48], Variance of BVs: [0.0 0.581]\n",
        "[ Info: Gen 2 -> Mean of BVs: [0.0 4.026], Variance of BVs: [0.0 0.239]\n",
        "[ Info: Gen 3 -> Mean of BVs: [0.0 4.177], Variance of BVs: [0.0 0.411]\n",
        "[ Info: Gen 4 -> Mean of BVs: [0.0 4.402], Variance of BVs: [0.0 0.142]\n",
        "[ Info: Gen 5 -> Mean of BVs: [0.0 4.48], Variance of BVs: [0.0 0.108]\n",
        "```\n",
        "\n",
        "### Step 5. Examine the results"
      ]
    },
    {
      "cell_type": "code",
      "execution_count": null,
      "metadata": {},
      "outputs": [],
      "source": [
        "summary(males + females)"
      ]
    },
    {
      "cell_type": "markdown",
      "metadata": {},
      "source": [
        "```\n",
        "Dict{String,Any} with 3 entries:\n",
        "  \"mu_g\"  => [0.0 4.48]\n",
        "  \"var_g\" => [0.0 0.108]\n",
        "  \"n\"     => 10\n",
        "```\n",
        "\n",
        "Compare the allele frequencies"
      ]
    },
    {
      "cell_type": "code",
      "execution_count": null,
      "metadata": {},
      "outputs": [],
      "source": [
        "get_QTLs(cohort) |> get_MAF"
      ]
    },
    {
      "cell_type": "markdown",
      "metadata": {},
      "source": [
        "```\n",
        "6-element Array{Float64,1}:\n",
        "0.5\n",
        "0.4\n",
        "0.0\n",
        "0.2\n",
        "0.0\n",
        "0.4\n",
        "```"
      ]
    },
    {
      "cell_type": "code",
      "execution_count": null,
      "metadata": {},
      "outputs": [],
      "source": [
        "get_QTLs(males + females) |> get_MAF"
      ]
    },
    {
      "cell_type": "markdown",
      "metadata": {},
      "source": [
        "```\n",
        "6-element Array{Float64,1}:\n",
        "0.0\n",
        "0.1\n",
        "0.0\n",
        "0.0\n",
        "0.0\n",
        "0.0\n",
        "```"
      ]
    }
  ],
  "metadata": {
    "kernelspec": {
      "display_name": "Julia 1.5.4",
      "language": "julia",
      "name": "julia-1.5"
    },
    "language_info": {
      "file_extension": ".jl",
      "mimetype": "application/julia",
      "name": "julia",
      "version": "1.5.4"
    }
  },
  "nbformat": 4,
  "nbformat_minor": 2
}