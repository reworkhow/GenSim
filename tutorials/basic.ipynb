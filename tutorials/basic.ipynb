{
  "cells": [
    {
      "cell_type": "markdown",
      "source": [
        "# Demo for basic features in XSimV2"
      ],
      "metadata": {}
    },
    {
      "outputs": [],
      "cell_type": "code",
      "source": [
        "include(\"../src/XSim.jl\")\nusing .XSim"
      ],
      "metadata": {},
      "execution_count": null
    },
    {
      "cell_type": "markdown",
      "source": [
        "### Step 0. Load XSim and set random seed"
      ],
      "metadata": {}
    },
    {
      "outputs": [],
      "cell_type": "code",
      "source": [
        "using XSim\nimport Random\nRandom.seed!(95616)"
      ],
      "metadata": {},
      "execution_count": null
    },
    {
      "cell_type": "markdown",
      "source": [
        "### Step 1. Setup genome and phenome information"
      ],
      "metadata": {}
    },
    {
      "outputs": [],
      "cell_type": "code",
      "source": [
        "build_demo()"
      ],
      "metadata": {},
      "execution_count": null
    },
    {
      "cell_type": "markdown",
      "source": [
        "```\n[ Info: --------- Genome Summary ---------\n[ Info: Number of Chromosome  : 10\n[ Info: \n[ Info: Chromosome Length (cM): 750.0\n[ Info: [75.0, 75.0, 75.0, 75.0, 75.0, 75.0, 75.0, 75.0, 75.0, 75.0]\n[ Info: \n[ Info: Number of Loci        : 50\n[ Info: [5, 5, 5, 5, 5, 5, 5, 5, 5, 5]\n[ Info: \n[ Info: Genotyping Error      : 0.0\n[ Info: Mutation Rate         : 0.0\n[ Info: \n[ Info: --------- Phenome Summary ---------\n[ Info: Number of Traits      : 2\n┌ Info: \n│   Genetic_Variance =\n│    2×2 Array{Float64,2}:\n│     1.0  0.0\n└     0.0  1.0\n[ Info: Number of QTLs        : [3 8]\n```\n\n### Step 2. Initialize founders"
      ],
      "metadata": {}
    },
    {
      "outputs": [],
      "cell_type": "code",
      "source": [
        "n_sires = 5\nsires   = Founders(n_sires)"
      ],
      "metadata": {},
      "execution_count": null
    },
    {
      "cell_type": "markdown",
      "source": [
        "```\n[ Info: Cohort (5 individuals)\n[ Info: \n[ Info: Mean of breeding values: \n[ Info: [1.177 1.121]\n[ Info: \n[ Info: Variance of breeding values: \n[ Info: [0.867 0.91]\n```"
      ],
      "metadata": {}
    },
    {
      "outputs": [],
      "cell_type": "code",
      "source": [
        "n_dams  = 3\ndams    = Founders(n_dams)"
      ],
      "metadata": {},
      "execution_count": null
    },
    {
      "cell_type": "markdown",
      "source": [
        "```\n[ Info: Cohort (3 individuals)\n[ Info: \n[ Info: Mean of breeding values: \n[ Info: [0.464 0.181]\n[ Info: \n[ Info: Variance of breeding values: \n[ Info: [0.899 0.376]\n```\n\n### Step 3. Mate"
      ],
      "metadata": {}
    },
    {
      "outputs": [],
      "cell_type": "code",
      "source": [
        "args_mate     = Dict(:n_per_shared => n_dams,\n                     :n_per_mate   => 2)\nprogenies     = mate(sires, dams; args_mate...)"
      ],
      "metadata": {},
      "execution_count": null
    },
    {
      "cell_type": "markdown",
      "source": [
        "```\n[ Info: --------- Mating Summary ---------\n[ Info: Generate 30 individuals from 5 shared breeds\n[ Info: Every shared breeds mates with 3 breeds\n[ Info: And each mating reproduces 2 progenies\n[ Info: \n[ Info: --------- Offsprings Summary ---------\n[ Info: Cohort (30 individuals)\n[ Info: \n[ Info: Mean of breeding values: \n[ Info: [0.611 0.777]\n[ Info: \n[ Info: Variance of breeding values: \n[ Info: [0.989 1.309]\n```\n\n\n### Step 4. Select"
      ],
      "metadata": {}
    },
    {
      "outputs": [],
      "cell_type": "code",
      "source": [
        "args_select   = Dict(:h2 => [.5, .5])\nprogenies_sel = select(progenies, 10; args_select...)"
      ],
      "metadata": {},
      "execution_count": null
    },
    {
      "cell_type": "markdown",
      "source": [
        "```\n[ Info: --------- Selection Summary ---------\n[ Info: Select 10 individuals out of 30 individuals\n[ Info: Selection differential (P): [0.764 0.845]\n[ Info: Selection response     (G): [0.586 0.73]\n┌ Info: \n│   Residual_Variance =\n│    2×2 Array{Float64,2}:\n│     1.0  0.0\n└     0.0  1.0\n[ Info: --------- Offsprings Summary ---------\n[ Info: Cohort (10 individuals)\n[ Info: \n[ Info: Mean of breeding values: \n[ Info: [1.193 1.612]\n[ Info: \n[ Info: Variance of breeding values: \n[ Info: [1.057 0.874]\n```\n\n### Step 5. Breed\n##### Expand to multiple generations"
      ],
      "metadata": {}
    },
    {
      "outputs": [],
      "cell_type": "code",
      "source": [
        "args_breed  = Dict(:n_gens   => 5,\n                   :n_select => 10)\nsires, dams = breed(sires, dams; args_breed..., args_mate..., args_select...)"
      ],
      "metadata": {},
      "execution_count": null
    },
    {
      "cell_type": "markdown",
      "source": [
        "```\n[ Info: Gen 0 -> Mean of BVs: [0.909 0.769], Variance of BVs: [0.888 0.864]\n[ Info: Gen 1 -> Mean of BVs: [1.363 1.307], Variance of BVs: [0.682 0.691]\n[ Info: Gen 2 -> Mean of BVs: [1.987 1.792], Variance of BVs: [0.295 0.502]\n[ Info: Gen 3 -> Mean of BVs: [1.906 2.732], Variance of BVs: [0.768 0.542]\n[ Info: Gen 4 -> Mean of BVs: [2.665 2.807], Variance of BVs: [0.464 0.664]\n[ Info: Gen 5 -> Mean of BVs: [3.091 3.05], Variance of BVs: [0.053 0.468]\n```"
      ],
      "metadata": {}
    },
    {
      "outputs": [],
      "cell_type": "code",
      "source": [
        "summary(sires + dams)"
      ],
      "metadata": {},
      "execution_count": null
    },
    {
      "cell_type": "markdown",
      "source": [
        "```\nDict{String,Any} with 3 entries:\n  \"mu_g\"  => [3.091 3.05]\n  \"var_g\" => [0.053 0.468]\n  \"n\"     => 20\n```\n##### Modularism of XSim"
      ],
      "metadata": {}
    },
    {
      "outputs": [],
      "cell_type": "code",
      "source": [
        "for i in 1:5\n    progenies = mate(sires, dams; args_mate...)\n    progenies = select(progenies, 10; args_select...)\n    sires, dams = progenies, progenies\nend"
      ],
      "metadata": {},
      "execution_count": null
    },
    {
      "outputs": [],
      "cell_type": "code",
      "source": [
        "summary(sires + dams)"
      ],
      "metadata": {},
      "execution_count": null
    },
    {
      "cell_type": "markdown",
      "source": [
        "```\nDict{String,Any} with 3 entries:\n  \"mu_g\"  => [3.091 3.05]\n  \"var_g\" => [0.053 0.468]\n  \"n\"     => 20\n```\n\n\n### Complete code"
      ],
      "metadata": {}
    },
    {
      "outputs": [],
      "cell_type": "code",
      "source": [
        "# Load XSim\nusing XSim\nimport Random\nRandom.seed!(95616)\n\n# Build genome and phenome\nbuild_demo()\n\n# Initialize founders\nn_sires = 5\nn_dams  = 3\nsires   = Founders(n_sires)\ndams    = Founders(n_dams)\n\n# Define parameters\nargs     = Dict(# mating\n                :n_per_shared => n_dams,\n                :n_per_mate   => 2,\n                # selection\n                :h2           => [.5, .5],\n                # breeding\n                :n_gens       => 5,\n                :n_select     => 10)\n\n# Breeding program\nsires, dams   = breed(sires, dams; args...)"
      ],
      "metadata": {},
      "execution_count": null
    }
  ],
  "nbformat_minor": 2,
  "metadata": {
    "language_info": {
      "file_extension": ".jl",
      "mimetype": "application/julia",
      "name": "julia",
      "version": "1.5.4"
    },
    "kernelspec": {
      "name": "julia-1.5",
      "display_name": "Julia 1.5.4",
      "language": "julia"
    }
  },
  "nbformat": 4
}
