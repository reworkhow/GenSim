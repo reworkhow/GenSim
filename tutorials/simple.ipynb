{
  "cells": [
    {
      "cell_type": "markdown",
      "metadata": {},
      "source": [
        "# Test"
      ]
    },
    {
      "cell_type": "code",
      "execution_count": null,
      "metadata": {},
      "outputs": [],
      "source": [
        "include(\"../src/XSim.jl\")\n",
        "using .XSim"
      ]
    },
    {
      "cell_type": "code",
      "execution_count": null,
      "metadata": {},
      "outputs": [],
      "source": [
        "build_demo()"
      ]
    },
    {
      "cell_type": "markdown",
      "metadata": {},
      "source": [
        "```\n",
        "[ Info: --------- Genome Summary ---------\n",
        "[ Info: Number of Chromosome  : 4\n",
        "[ Info:\n",
        "[ Info: Chromosome Length (cM): 200.0\n",
        "[ Info: [55.0, 35.0, 65.0, 45.0]\n",
        "[ Info:\n",
        "[ Info: Number of Loci        : 10\n",
        "[ Info: [2, 3, 3, 2]\n",
        "[ Info:\n",
        "[ Info: Genotyping Error      : 0.0\n",
        "[ Info: Mutation Rate         : 0.0\n",
        "[ Info:\n",
        "[ Info: --------- Phenome Summary ---------\n",
        "[ Info: Number of Traits      : 2\n",
        "┌ Info:\n",
        "│   Genetic_Variance =\n",
        "│    2×2 Array{Float64,2}:\n",
        "│     1.0  0.5\n",
        "└     0.5  1.0\n",
        "[ Info: Number of QTLs        : [2 4]\n",
        "\n",
        "```"
      ]
    }
  ],
  "metadata": {
    "kernelspec": {
      "display_name": "Julia 1.5.4",
      "language": "julia",
      "name": "julia-1.5"
    },
    "language_info": {
      "name": "julia",
      "version": ""
    }
  },
  "nbformat": 4,
  "nbformat_minor": 2
}